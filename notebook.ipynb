{
 "cells": [
  {
   "cell_type": "code",
   "execution_count": 1,
   "metadata": {},
   "outputs": [],
   "source": [
    "import requests\n",
    "from bs4 import BeautifulSoup\n",
    "from tqdm import tqdm\n",
    "\n",
    "import pandas as pd\n",
    "import numpy as np"
   ]
  },
  {
   "cell_type": "code",
   "execution_count": 27,
   "metadata": {},
   "outputs": [
    {
     "data": {
      "text/plain": [
       "['https://en.wikipedia.org/wiki/Nineteen_Eighty-Four',\n",
       " 'https://en.wikipedia.org/wiki/The_Ambassadors',\n",
       " 'https://en.wikipedia.org/wiki/An_American_Tragedy',\n",
       " 'https://en.wikipedia.org/wiki/Brave_New_World',\n",
       " 'https://en.wikipedia.org/wiki/Catch-22',\n",
       " 'https://en.wikipedia.org/wiki/The_Catcher_in_the_Rye',\n",
       " 'https://en.wikipedia.org/wiki/A_Clockwork_Orange_(novel)',\n",
       " 'https://en.wikipedia.org/wiki/The_Day_of_the_Locust',\n",
       " 'https://en.wikipedia.org/wiki/Finnegans_Wake',\n",
       " 'https://en.wikipedia.org/wiki/The_Grapes_of_Wrath',\n",
       " 'https://en.wikipedia.org/wiki/The_Great_Gatsby',\n",
       " 'https://en.wikipedia.org/wiki/Heart_of_Darkness',\n",
       " 'https://en.wikipedia.org/wiki/The_House_of_Mirth',\n",
       " 'https://en.wikipedia.org/wiki/Invisible_Man',\n",
       " 'https://en.wikipedia.org/wiki/Ironweed_(novel)',\n",
       " 'https://en.wikipedia.org/wiki/Lolita',\n",
       " 'https://en.wikipedia.org/wiki/Midnight%27s_Children',\n",
       " 'https://en.wikipedia.org/wiki/The_Naked_and_the_Dead',\n",
       " 'https://en.wikipedia.org/wiki/Native_Son',\n",
       " 'https://en.wikipedia.org/wiki/On_the_Road',\n",
       " 'https://en.wikipedia.org/wiki/Pale_Fire',\n",
       " 'https://en.wikipedia.org/wiki/A_Passage_to_India',\n",
       " 'https://en.wikipedia.org/wiki/A_Portrait_of_the_Artist_as_a_Young_Man',\n",
       " 'https://en.wikipedia.org/wiki/The_Sheltering_Sky',\n",
       " 'https://en.wikipedia.org/wiki/Slaughterhouse-Five',\n",
       " 'https://en.wikipedia.org/wiki/The_Sound_and_the_Fury',\n",
       " 'https://en.wikipedia.org/wiki/The_Sun_Also_Rises',\n",
       " 'https://en.wikipedia.org/wiki/To_the_Lighthouse',\n",
       " 'https://en.wikipedia.org/wiki/Tropic_of_Cancer_(novel)',\n",
       " 'https://en.wikipedia.org/wiki/Ulysses_(novel)',\n",
       " 'https://en.wikipedia.org/wiki/Under_the_Volcano',\n",
       " 'https://en.wikipedia.org/wiki/U.S.A._(trilogy)',\n",
       " 'https://en.wikipedia.org/wiki/Winesburg,_Ohio',\n",
       " 'https://en.wikipedia.org/wiki/Women_in_Love']"
      ]
     },
     "execution_count": 27,
     "metadata": {},
     "output_type": "execute_result"
    }
   ],
   "source": [
    "def getSoup(link):\n",
    "    '''\n",
    "    This function prepares the soup object.\n",
    "    '''\n",
    "    r = requests.get(link)\n",
    "    r.encoding = 'UTF-8'\n",
    "    return BeautifulSoup(r.text,'lxml')\n",
    "\n",
    "def getAllLinks(link):\n",
    "    '''\n",
    "    This function gets all the links to the books.\n",
    "    '''\n",
    "    soup = getSoup(link)\n",
    "    ols = soup.find('ol').findAll('a')\n",
    "    return ['https://en.wikipedia.org' + ol['href'] for ol in ols]\n",
    "\n",
    "# get all the links to the books\n",
    "links = getAllLinks('https://en.wikipedia.org/wiki/20th_Century%27s_Greatest_Hits:_100_English-Language_Books_of_Fiction')\n",
    "\n",
    "links"
   ]
  },
  {
   "cell_type": "code",
   "execution_count": 77,
   "metadata": {},
   "outputs": [
    {
     "data": {
      "text/plain": [
       "[['Nineteen Eighty-Four', 'George Orwell', 'United Kingdom'],\n",
       " ['The Ambassadors', 'Henry James', 'United Kingdom, United States'],\n",
       " ['An American Tragedy', 'Theodore Dreiser', 'US'],\n",
       " ['Brave New World', 'Aldous Huxley', 'United Kingdom'],\n",
       " ['Catch-22', 'Joseph Heller', 'United States'],\n",
       " ['The Catcher in the Rye', 'J. D. Salinger', 'United States'],\n",
       " ['A Clockwork Orange', 'Anthony Burgess', 'United Kingdom'],\n",
       " ['The Day of the Locust', 'Nathanael West', 'United States'],\n",
       " ['Finnegans Wake', 'Not available', 'Not available'],\n",
       " ['The Grapes of Wrath', 'John Steinbeck', 'United States'],\n",
       " ['The Great Gatsby', 'F. Scott Fitzgerald', 'United States'],\n",
       " ['Heart of Darkness', 'Joseph Conrad', 'United Kingdom'],\n",
       " ['The House of Mirth', 'Edith Wharton', 'United States'],\n",
       " ['Invisible Man', 'Ralph Ellison', 'United States'],\n",
       " ['Ironweed', 'William J. Kennedy', 'United States'],\n",
       " ['Lolita', 'Vladimir Nabokov', 'France'],\n",
       " [\"Midnight's Children\", 'Salman Rushdie', 'United Kingdom'],\n",
       " ['The Naked and the Dead', 'Norman Mailer', 'United States'],\n",
       " ['Native Son', 'Richard Wright (author)', 'United States'],\n",
       " ['On the Road', 'Jack Kerouac', 'United States'],\n",
       " ['Pale Fire', 'Vladimir Nabokov', 'United States'],\n",
       " ['A Passage to India', 'E. M. Forster', 'England'],\n",
       " ['A Portrait of the Artist as a Young Man', 'Not available', 'Not available'],\n",
       " ['The Sheltering Sky', 'Paul Bowles', 'United States'],\n",
       " ['Slaughterhouse-Five', 'Kurt Vonnegut', 'United States'],\n",
       " ['The Sound and the Fury', 'William Faulkner', 'United States'],\n",
       " ['The Sun Also Rises', 'Not available', 'Not available'],\n",
       " ['To the Lighthouse', 'Virginia Woolf', 'United Kingdom'],\n",
       " ['Tropic of Cancer', 'Henry Miller', 'France'],\n",
       " ['Ulysses', 'Not available', 'Not available'],\n",
       " ['Under the Volcano', 'Malcolm Lowry', 'United Kingdom'],\n",
       " ['U.S.A.', 'John Dos Passos', 'United States'],\n",
       " ['Winesburg, Ohio', 'Sherwood Anderson', 'United States'],\n",
       " ['Women in Love', 'Not available', 'Not available']]"
      ]
     },
     "execution_count": 77,
     "metadata": {},
     "output_type": "execute_result"
    }
   ],
   "source": [
    "def getInfo(link):\n",
    "    soup = getSoup(link)\n",
    "    title = soup.find('h1', {'class':'firstHeading'}).find('i').text\n",
    "    try:\n",
    "        author = soup.find('table', {'class':'infobox vcard'}).find('th',{'scope':'row'}).next_sibling.find('a')['title']\n",
    "        country = soup.find('table', {'class':'infobox vcard'}).find('th',{'scope':'row'}, string='Country').next_sibling.text\n",
    "    except:\n",
    "        author = 'Not available'\n",
    "        country = 'Not available'\n",
    "    \n",
    "    out = [title, author, country]\n",
    "    \n",
    "    return out\n",
    "    \n",
    "getInfo('https://en.wikipedia.org/wiki/Nineteen_Eighty-Four')\n",
    "\n",
    "[getInfo(link) for link in links]"
   ]
  },
  {
   "cell_type": "code",
   "execution_count": null,
   "metadata": {},
   "outputs": [],
   "source": []
  }
 ],
 "metadata": {
  "kernelspec": {
   "display_name": "Python 3",
   "language": "python",
   "name": "python3"
  },
  "language_info": {
   "codemirror_mode": {
    "name": "ipython",
    "version": 3
   },
   "file_extension": ".py",
   "mimetype": "text/x-python",
   "name": "python",
   "nbconvert_exporter": "python",
   "pygments_lexer": "ipython3",
   "version": "3.7.3"
  }
 },
 "nbformat": 4,
 "nbformat_minor": 4
}
